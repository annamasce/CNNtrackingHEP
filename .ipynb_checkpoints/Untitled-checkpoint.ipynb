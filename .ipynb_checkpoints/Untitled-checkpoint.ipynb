{
 "cells": [
  {
   "cell_type": "code",
   "execution_count": null,
   "metadata": {},
   "outputs": [],
   "source": [
    "import torch\n",
    "from torch.utils import data\n",
    "from classes import DatasetTracks, NeuralNetModel\n",
    "import matplotlib.pyplot as plt"
   ]
  },
  {
   "cell_type": "code",
   "execution_count": null,
   "metadata": {},
   "outputs": [],
   "source": [
    "# Parameters for DataLoader\n",
    "params = {'batch_size': 8,  # from 8 to 64\n",
    "          'shuffle': False,\n",
    "          'num_workers': 6}\n",
    "\n",
    "length = 1000\n",
    "Dataset = DatasetTracks('../../DataFrames/', length)\n",
    "training_set, validation_set = data.dataset.random_split(Dataset, [int(length/2), int(length/2)])\n",
    "print(len(training_set))\n",
    "print(len(validation_set))\n",
    "training_generator = data.DataLoader(dataset=training_set, **params)\n",
    "print('Training generator is ready')\n",
    "validation_generator = data.DataLoader(dataset=validation_set, **params)\n",
    "print('Test generator is ready')"
   ]
  },
  {
   "cell_type": "code",
   "execution_count": null,
   "metadata": {},
   "outputs": [],
   "source": [
    "model = NeuralNetModel()\n",
    "# optimizer = torch.optim.SGD(model.parameters(), lr=1e-1)\n",
    "optimizer = torch.optim.Adam(model.parameters(), lr=1e-1)\n",
    "model = model.float()\n",
    "# loss_fn = torch.nn.MSELoss()\n",
    "loss_fn = torch.nn.BCEWithLogitsLoss()"
   ]
  },
  {
   "cell_type": "code",
   "execution_count": null,
   "metadata": {},
   "outputs": [],
   "source": [
    "train_losses = []\n",
    "max_epochs = 10\n",
    "print('Starting the training...')\n",
    "for epoch in range(max_epochs):\n",
    "    # Training\n",
    "    running_loss = 0.0\n",
    "    for i, data in enumerate(training_generator, 0):\n",
    "        # get the inputs; data is a list of [datapoints, targets]\n",
    "        # print(i, type(data))\n",
    "        local_datapoint, local_target = data\n",
    "\n",
    "        ##\n",
    "        ## Transfer to GPU\n",
    "        # local_batch, local_labels = local_batch.to(device), local_labels.to(device)\n",
    "        ##\n",
    "\n",
    "        # Model computations\n",
    "        prediction = model(local_datapoint.float())\n",
    "        loss = loss_fn(prediction.float(), local_target.float())\n",
    "        optimizer.zero_grad()\n",
    "        loss.backward()\n",
    "        optimizer.step()\n",
    "        train_losses.append(loss.item())\n",
    "\n",
    "        # Print statistics\n",
    "        running_loss = running_loss + loss.item()\n",
    "        if i % 4 == 0:  # print every 4 mini-batches\n",
    "            print('[%d, %5d] loss: %.9f' %\n",
    "                  (epoch, i, running_loss / 4))\n",
    "            # ax.plot(epoch*epoch_iters + i, running_loss/4, 'b-')\n",
    "            running_loss = 0.0"
   ]
  },
  {
   "cell_type": "code",
   "execution_count": null,
   "metadata": {},
   "outputs": [],
   "source": [
    "# Save the trained model\n",
    "PATH = '../CNN.pth'\n",
    "torch.save(model.state_dict(), PATH)"
   ]
  },
  {
   "cell_type": "code",
   "execution_count": null,
   "metadata": {},
   "outputs": [],
   "source": [
    "#load the CNN previously trained\n",
    "model = NeuralNetModel()\n",
    "model.load_state_dict(torch.load(PATH))\n",
    "\n",
    "val_losses = []\n",
    "val_running_loss = 0.0\n",
    "with torch.no_grad():\n",
    "    for j, val_data in enumerate(validation_generator, 0):\n",
    "        val_local_datapoint, val_local_target = val_data\n",
    "\n",
    "        model.eval()\n",
    "\n",
    "        val_prediction = model(val_local_datapoint.float())\n",
    "        val_loss = loss_fn(val_prediction.float(), val_local_target.float())\n",
    "        val_losses.append(val_loss.item())"
   ]
  },
  {
   "cell_type": "code",
   "execution_count": null,
   "metadata": {},
   "outputs": [],
   "source": [
    "# Plot loss function for training and validation\n",
    "train_epoch_iters = len(training_set) / params['batch_size']\n",
    "if train_epoch_iters > int(train_epoch_iters): train_epoch_iters = int(train_epoch_iters) + 1\n",
    "val_epoch_iters = len(validation_set) / params['batch_size']\n",
    "if val_epoch_iters > int(val_epoch_iters): val_epoch_iters = int(val_epoch_iters) + 1\n",
    "plt.figure()\n",
    "plt.subplot(211)\n",
    "plt.plot(list(range(train_epoch_iters*max_epochs)), train_losses, 'b-')\n",
    "plt.xlabel('train iteration')\n",
    "plt.ylabel('running loss')\n",
    "plt.subplot(212)\n",
    "plt.plot(list(range(val_epoch_iters)), val_losses, 'r-')\n",
    "plt.xlabel('val iteration')\n",
    "plt.ylabel('val loss')\n",
    "\n",
    "plt.show()"
   ]
  }
 ],
 "metadata": {
  "kernelspec": {
   "display_name": "Python 3",
   "language": "python",
   "name": "python3"
  },
  "language_info": {
   "codemirror_mode": {
    "name": "ipython",
    "version": 3
   },
   "file_extension": ".py",
   "mimetype": "text/x-python",
   "name": "python",
   "nbconvert_exporter": "python",
   "pygments_lexer": "ipython3",
   "version": "3.6.9"
  }
 },
 "nbformat": 4,
 "nbformat_minor": 2
}
