{
 "nbformat": 4,
 "nbformat_minor": 0,
 "metadata": {
  "colab": {
   "name": "colab_notebook.ipynb",
   "provenance": [],
   "collapsed_sections": []
  },
  "kernelspec": {
   "name": "python3",
   "display_name": "Python 3"
  },
  "accelerator": "GPU",
  "pycharm": {
   "stem_cell": {
    "cell_type": "raw",
    "source": [],
    "metadata": {
     "collapsed": false
    }
   }
  }
 },
 "cells": [
  {
   "cell_type": "code",
   "metadata": {
    "id": "RGvRHJgTYfsQ",
    "colab_type": "code",
    "colab": {
     "base_uri": "https://localhost:8080/",
     "height": 121
    },
    "outputId": "e34335d5-4b90-4ddf-fb1c-0ca478a36f9e"
   },
   "source": [
    "!git clone https://github.com/annamasce/CNNtrackingHEP.git"
   ],
   "execution_count": 27,
   "outputs": [
    {
     "output_type": "stream",
     "text": [
      "Cloning into 'CNNtrackingHEP'...\n",
      "remote: Enumerating objects: 40, done.\u001b[K\n",
      "remote: Counting objects: 100% (40/40), done.\u001b[K\n",
      "remote: Compressing objects: 100% (28/28), done.\u001b[K\n",
      "remote: Total 40 (delta 12), reused 38 (delta 10), pack-reused 0\u001b[K\n",
      "Unpacking objects: 100% (40/40), done.\n"
     ],
     "name": "stdout"
    }
   ]
  },
  {
   "cell_type": "code",
   "metadata": {
    "id": "1jqzeL5YYmg6",
    "colab_type": "code",
    "colab": {
     "base_uri": "https://localhost:8080/",
     "height": 260
    },
    "outputId": "ea68b525-84ed-46ef-ac9f-f6281cb17718"
   },
   "source": [
    "!pip install torch numpy matplotlib pandas torchvision"
   ],
   "execution_count": 10,
   "outputs": [
    {
     "output_type": "stream",
     "text": [
      "Requirement already satisfied: torch in /usr/local/lib/python3.6/dist-packages (1.3.1)\n",
      "Requirement already satisfied: numpy in /usr/local/lib/python3.6/dist-packages (1.17.4)\n",
      "Requirement already satisfied: matplotlib in /usr/local/lib/python3.6/dist-packages (3.1.2)\n",
      "Requirement already satisfied: pandas in /usr/local/lib/python3.6/dist-packages (0.25.3)\n",
      "Requirement already satisfied: torchvision in /usr/local/lib/python3.6/dist-packages (0.4.2)\n",
      "Requirement already satisfied: pyparsing!=2.0.4,!=2.1.2,!=2.1.6,>=2.0.1 in /usr/local/lib/python3.6/dist-packages (from matplotlib) (2.4.5)\n",
      "Requirement already satisfied: cycler>=0.10 in /usr/local/lib/python3.6/dist-packages (from matplotlib) (0.10.0)\n",
      "Requirement already satisfied: python-dateutil>=2.1 in /usr/local/lib/python3.6/dist-packages (from matplotlib) (2.6.1)\n",
      "Requirement already satisfied: kiwisolver>=1.0.1 in /usr/local/lib/python3.6/dist-packages (from matplotlib) (1.1.0)\n",
      "Requirement already satisfied: pytz>=2017.2 in /usr/local/lib/python3.6/dist-packages (from pandas) (2018.9)\n",
      "Requirement already satisfied: pillow>=4.1.1 in /usr/local/lib/python3.6/dist-packages (from torchvision) (4.3.0)\n",
      "Requirement already satisfied: six in /usr/local/lib/python3.6/dist-packages (from torchvision) (1.12.0)\n",
      "Requirement already satisfied: setuptools in /usr/local/lib/python3.6/dist-packages (from kiwisolver>=1.0.1->matplotlib) (42.0.2)\n",
      "Requirement already satisfied: olefile in /usr/local/lib/python3.6/dist-packages (from pillow>=4.1.1->torchvision) (0.46)\n"
     ],
     "name": "stdout"
    }
   ]
  },
  {
   "cell_type": "code",
   "metadata": {
    "id": "fDLkhY9fazLw",
    "colab_type": "code",
    "colab": {
     "base_uri": "https://localhost:8080/",
     "height": 124
    },
    "outputId": "92c9c8d7-d54e-4b46-bce1-b77ea63cf42b"
   },
   "source": [
    "from google.colab import drive\n",
    "drive.mount('/content/drive')"
   ],
   "execution_count": 3,
   "outputs": [
    {
     "output_type": "stream",
     "text": [
      "Go to this URL in a browser: https://accounts.google.com/o/oauth2/auth?client_id=947318989803-6bn6qk8qdgf4n4g3pfee6491hc0brc4i.apps.googleusercontent.com&redirect_uri=urn%3aietf%3awg%3aoauth%3a2.0%3aoob&response_type=code&scope=email%20https%3a%2f%2fwww.googleapis.com%2fauth%2fdocs.test%20https%3a%2f%2fwww.googleapis.com%2fauth%2fdrive%20https%3a%2f%2fwww.googleapis.com%2fauth%2fdrive.photos.readonly%20https%3a%2f%2fwww.googleapis.com%2fauth%2fpeopleapi.readonly\n",
      "\n",
      "Enter your authorization code:\n",
      "··········\n",
      "Mounted at /content/drive\n"
     ],
     "name": "stdout"
    }
   ]
  },
  {
   "cell_type": "code",
   "metadata": {
    "id": "jG47__CAbjsi",
    "colab_type": "code",
    "colab": {}
   },
   "source": [
    "!rm -rf DataFrames"
   ],
   "execution_count": 0,
   "outputs": []
  },
  {
   "cell_type": "code",
   "metadata": {
    "id": "RK3qX4WFZtoP",
    "colab_type": "code",
    "colab": {}
   },
   "source": [
    "!unzip 'drive/My Drive/EPFL/SpecSemester_Project2/TrackingML/DataFrames.zip' -d 'drive/My Drive/EPFL/SpecSemester_Project2/TrackingML/'"
   ],
   "execution_count": 0,
   "outputs": []
  },
  {
   "cell_type": "code",
   "metadata": {
    "id": "1JPe0L35YsiJ",
    "colab_type": "code",
    "colab": {
     "base_uri": "https://localhost:8080/",
     "height": 381
    },
    "outputId": "71f1f77f-e3dc-4be0-e906-b9a5fe9b1157"
   },
   "source": [
    "!python CNNtrackingHEP/CNN_GhostKilling.py drive/My Drive/EPFL/SpecSemester_Project2/TrackingML/DataFrames drive/My Drive/EPFL/SpecSemester_Project2/TrackingML/CNN_models"
   ],
   "execution_count": 18,
   "outputs": [
    {
     "output_type": "stream",
     "text": [
      "Current working dir:  /content\n",
      "500\n",
      "500\n",
      "Training generator is ready\n",
      "Test generator is ready\n",
      "Starting the training...\n",
      "[0,     0] loss: 0.168310568\n",
      "[0,     4] loss: 0.602350175\n",
      "[0,     8] loss: 0.517057061\n",
      "[0,    12] loss: 0.440474272\n",
      "[0,    16] loss: 0.354500197\n",
      "[0,    20] loss: 0.253132168\n",
      "[0,    24] loss: 0.159506783\n",
      "[0,    28] loss: 0.097498015\n",
      "[0,    32] loss: 0.063184826\n",
      "[0,    36] loss: 0.044044220\n",
      "[0,    40] loss: 0.032781585\n",
      "Traceback (most recent call last):\n",
      "  File \"CNNtrackingHEP/CNN_GhostKilling.py\", line 66, in <module>\n",
      "    train_losses.append(loss.item())\n",
      "KeyboardInterrupt\n"
     ],
     "name": "stdout"
    }
   ]
  }
 ]
}